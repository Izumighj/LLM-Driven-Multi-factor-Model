{
 "cells": [
  {
   "cell_type": "code",
   "execution_count": 1,
   "id": "0941e22e",
   "metadata": {},
   "outputs": [],
   "source": [
    "import pandas as pd\n",
    "import numpy as np\n",
    "import statsmodels.api as sm\n",
    "import tushare as ts"
   ]
  },
  {
   "cell_type": "code",
   "execution_count": 4,
   "id": "ae48213e",
   "metadata": {},
   "outputs": [],
   "source": [
    "# 拉取数据\n",
    "pro = ts.pro_api()\n",
    "df_csi300 = pro.index_daily(**{\n",
    "    \"ts_code\": \"000300.SH\",\n",
    "    \"trade_date\": \"\",\n",
    "    \"start_date\": 20200101,\n",
    "    \"end_date\": 20251001,\n",
    "    \"limit\": \"\",\n",
    "    \"offset\": \"\"\n",
    "}, fields=[\n",
    "    \"ts_code\",\n",
    "    \"trade_date\",\n",
    "    \"close\",\n",
    "    \"open\",\n",
    "    \"high\",\n",
    "    \"low\",\n",
    "    \"pre_close\",\n",
    "    \"change\",\n",
    "    \"pct_chg\",\n",
    "    \"vol\",\n",
    "    \"amount\"\n",
    "])"
   ]
  },
  {
   "cell_type": "code",
   "execution_count": 6,
   "id": "5d0c19c6",
   "metadata": {},
   "outputs": [
    {
     "name": "stdout",
     "output_type": "stream",
     "text": [
      "成功获取到 300 只沪深300成分股。\n",
      "部分成分股代码示例:\n",
      "['300750.SZ', '600519.SH', '601318.SH', '600036.SH', '601899.SH', '300502.SZ', '300308.SZ', '000333.SZ', '300059.SZ', '600900.SH']\n"
     ]
    }
   ],
   "source": [
    "try:\n",
    "    df_csi= pro.index_weight(index_code='000300.SH',trade_date='20250930')\n",
    "    \n",
    "    # 3. 从返回的DataFrame中提取股票代码列表\n",
    "    # 成分股代码在 'con_code' 这一列\n",
    "    csi300_stock_list = df_csi['con_code'].tolist()\n",
    "    \n",
    "    print(f\"成功获取到 {len(csi300_stock_list)} 只沪深300成分股。\")\n",
    "    print(\"部分成分股代码示例:\")\n",
    "    print(csi300_stock_list[:10])\n",
    "\n",
    "except Exception as e:\n",
    "    print(f\"获取数据失败: {e}\")"
   ]
  },
  {
   "cell_type": "code",
   "execution_count": null,
   "id": "a003c5bf",
   "metadata": {},
   "outputs": [],
   "source": [
    "all_stock_data = pd.read_csv('data/all_stock_data_20200101_20250922.csv')"
   ]
  },
  {
   "cell_type": "code",
   "execution_count": 10,
   "id": "c4b6aefe",
   "metadata": {},
   "outputs": [
    {
     "data": {
      "text/plain": [
       "0          0.686073\n",
       "1          0.788235\n",
       "2          0.647688\n",
       "3          0.333619\n",
       "4          0.426186\n",
       "             ...   \n",
       "6687291    0.726919\n",
       "6687292    1.000000\n",
       "6687293    0.805922\n",
       "6687294    0.595411\n",
       "6687295    0.432493\n",
       "Length: 6687296, dtype: float64"
      ]
     },
     "execution_count": 10,
     "metadata": {},
     "output_type": "execute_result"
    }
   ],
   "source": [
    "all_stock_data['free_share']/all_stock_data['float_share']"
   ]
  },
  {
   "cell_type": "code",
   "execution_count": 9,
   "id": "ac78e45f",
   "metadata": {},
   "outputs": [
    {
     "data": {
      "text/plain": [
       "0          0.686080\n",
       "1          0.788227\n",
       "2          0.647685\n",
       "3          0.333621\n",
       "4          0.426190\n",
       "             ...   \n",
       "6687291    0.726879\n",
       "6687292    1.000000\n",
       "6687293    0.805909\n",
       "6687294    0.595422\n",
       "6687295    0.432495\n",
       "Length: 6687296, dtype: float64"
      ]
     },
     "execution_count": 9,
     "metadata": {},
     "output_type": "execute_result"
    }
   ],
   "source": [
    "all_stock_data['turnover_rate']/all_stock_data['turnover_rate_f']"
   ]
  },
  {
   "cell_type": "code",
   "execution_count": 17,
   "id": "fab2c9fa",
   "metadata": {},
   "outputs": [
    {
     "data": {
      "text/plain": [
       "0.0001"
      ]
     },
     "execution_count": 17,
     "metadata": {},
     "output_type": "execute_result"
    }
   ],
   "source": [
    "np.min(all_stock_data['turnover_rate'])"
   ]
  }
 ],
 "metadata": {
  "kernelspec": {
   "display_name": "tf",
   "language": "python",
   "name": "python3"
  },
  "language_info": {
   "codemirror_mode": {
    "name": "ipython",
    "version": 3
   },
   "file_extension": ".py",
   "mimetype": "text/x-python",
   "name": "python",
   "nbconvert_exporter": "python",
   "pygments_lexer": "ipython3",
   "version": "3.9.23"
  }
 },
 "nbformat": 4,
 "nbformat_minor": 5
}
